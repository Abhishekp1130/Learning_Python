{
 "cells": [
  {
   "cell_type": "code",
   "execution_count": 16,
   "id": "db5e5af9-2a9c-4d42-ac09-497c9a68a173",
   "metadata": {},
   "outputs": [
    {
     "name": "stdout",
     "output_type": "stream",
     "text": [
      "   EmployeeID FirstName  LastName  DepartmentID  Salary\n",
      "0           1      John       Doe           101   60000\n",
      "1           2      Jane     Smith           102   55000\n",
      "2           3     Emily     Jones           103   75000\n",
      "3           4   Michael   Johnson           101   65000\n",
      "4           5     Sarah  Williams           102   58000\n",
      "5           6     David     Brown           103   72000\n",
      "6           7     Laura    Garcia           101   69000\n",
      "7           8     James  Martinez           102   57000\n",
      "8           9    Olivia    Wilson           103   80000\n",
      "9          10    Daniel  Anderson           101   62000\n",
      "\n",
      "   DepartmentID DepartmentName       Location\n",
      "0           101    Engineering       New York\n",
      "1           102      Marketing  San Francisco\n",
      "2           103        Finance        Chicago\n",
      "3           104             HR    Los Angeles\n"
     ]
    }
   ],
   "source": [
    "import pandas as pd\n",
    "data = pd.read_csv(\"C:/Users/user/OneDrive/Desktop/data practice/python/data frames/Employees.csv\")\n",
    "data1 = pd.read_csv(\"C:/Users/user/OneDrive/Desktop/data practice/python/data frames/Departments.csv\")\n",
    "print(data)\n",
    "print()\n",
    "print(data1)\n"
   ]
  },
  {
   "cell_type": "code",
   "execution_count": 15,
   "id": "517edaf9-6c9f-4346-b481-d1e19c0804b6",
   "metadata": {},
   "outputs": [
    {
     "name": "stdout",
     "output_type": "stream",
     "text": [
      "   EmployeeID FirstName  LastName  DepartmentID  Salary DepartmentName  \\\n",
      "0           1      John       Doe           101   60000    Engineering   \n",
      "1           2      Jane     Smith           102   55000      Marketing   \n",
      "2           3     Emily     Jones           103   75000        Finance   \n",
      "3           4   Michael   Johnson           101   65000    Engineering   \n",
      "4           5     Sarah  Williams           102   58000      Marketing   \n",
      "5           6     David     Brown           103   72000        Finance   \n",
      "6           7     Laura    Garcia           101   69000    Engineering   \n",
      "7           8     James  Martinez           102   57000      Marketing   \n",
      "8           9    Olivia    Wilson           103   80000        Finance   \n",
      "9          10    Daniel  Anderson           101   62000    Engineering   \n",
      "\n",
      "        Location  \n",
      "0       New York  \n",
      "1  San Francisco  \n",
      "2        Chicago  \n",
      "3       New York  \n",
      "4  San Francisco  \n",
      "5        Chicago  \n",
      "6       New York  \n",
      "7  San Francisco  \n",
      "8        Chicago  \n",
      "9       New York  \n"
     ]
    }
   ],
   "source": [
    "print(pd.merge(data, data1,on = \"DepartmentID\"))"
   ]
  },
  {
   "cell_type": "code",
   "execution_count": 19,
   "id": "ea07fbd8-c23c-4fee-a7b3-0806dd335ace",
   "metadata": {},
   "outputs": [
    {
     "name": "stdout",
     "output_type": "stream",
     "text": [
      "   EmployeeID FirstName  LastName  DepartmentID  Salary DepartmentName  \\\n",
      "0           1      John       Doe           101   60000    Engineering   \n",
      "1           2      Jane     Smith           102   55000      Marketing   \n",
      "2           3     Emily     Jones           103   75000        Finance   \n",
      "3           4   Michael   Johnson           101   65000    Engineering   \n",
      "4           5     Sarah  Williams           102   58000      Marketing   \n",
      "5           6     David     Brown           103   72000        Finance   \n",
      "6           7     Laura    Garcia           101   69000    Engineering   \n",
      "7           8     James  Martinez           102   57000      Marketing   \n",
      "8           9    Olivia    Wilson           103   80000        Finance   \n",
      "9          10    Daniel  Anderson           101   62000    Engineering   \n",
      "\n",
      "        Location  \n",
      "0       New York  \n",
      "1  San Francisco  \n",
      "2        Chicago  \n",
      "3       New York  \n",
      "4  San Francisco  \n",
      "5        Chicago  \n",
      "6       New York  \n",
      "7  San Francisco  \n",
      "8        Chicago  \n",
      "9       New York  \n",
      "\n",
      "   EmployeeID FirstName  LastName  DepartmentID  Salary DepartmentName  \\\n",
      "0           1      John       Doe           101   60000    Engineering   \n",
      "1           2      Jane     Smith           102   55000      Marketing   \n",
      "2           3     Emily     Jones           103   75000        Finance   \n",
      "3           4   Michael   Johnson           101   65000    Engineering   \n",
      "4           5     Sarah  Williams           102   58000      Marketing   \n",
      "5           6     David     Brown           103   72000        Finance   \n",
      "6           7     Laura    Garcia           101   69000    Engineering   \n",
      "7           8     James  Martinez           102   57000      Marketing   \n",
      "8           9    Olivia    Wilson           103   80000        Finance   \n",
      "9          10    Daniel  Anderson           101   62000    Engineering   \n",
      "\n",
      "        Location  \n",
      "0       New York  \n",
      "1  San Francisco  \n",
      "2        Chicago  \n",
      "3       New York  \n",
      "4  San Francisco  \n",
      "5        Chicago  \n",
      "6       New York  \n",
      "7  San Francisco  \n",
      "8        Chicago  \n",
      "9       New York  \n"
     ]
    }
   ],
   "source": [
    "print(pd.merge(data, data1,on = \"DepartmentID\", how = \"inner\"))\n",
    "print()\n",
    "print(pd.merge(data, data1,on = \"DepartmentID\", how = \"left\"))"
   ]
  },
  {
   "cell_type": "code",
   "execution_count": 20,
   "id": "5ed73e9d-d887-482d-b7f4-d30f5cef0ed4",
   "metadata": {},
   "outputs": [
    {
     "name": "stdout",
     "output_type": "stream",
     "text": [
      "    DepartmentID DepartmentName       Location  EmployeeID FirstName  \\\n",
      "0            101    Engineering       New York         1.0      John   \n",
      "1            101    Engineering       New York         4.0   Michael   \n",
      "2            101    Engineering       New York         7.0     Laura   \n",
      "3            101    Engineering       New York        10.0    Daniel   \n",
      "4            102      Marketing  San Francisco         2.0      Jane   \n",
      "5            102      Marketing  San Francisco         5.0     Sarah   \n",
      "6            102      Marketing  San Francisco         8.0     James   \n",
      "7            103        Finance        Chicago         3.0     Emily   \n",
      "8            103        Finance        Chicago         6.0     David   \n",
      "9            103        Finance        Chicago         9.0    Olivia   \n",
      "10           104             HR    Los Angeles         NaN       NaN   \n",
      "\n",
      "    LastName   Salary  \n",
      "0        Doe  60000.0  \n",
      "1    Johnson  65000.0  \n",
      "2     Garcia  69000.0  \n",
      "3   Anderson  62000.0  \n",
      "4      Smith  55000.0  \n",
      "5   Williams  58000.0  \n",
      "6   Martinez  57000.0  \n",
      "7      Jones  75000.0  \n",
      "8      Brown  72000.0  \n",
      "9     Wilson  80000.0  \n",
      "10       NaN      NaN  \n"
     ]
    }
   ],
   "source": [
    "print(pd.merge(right = data, left = data1,on = \"DepartmentID\", how = \"left\"))"
   ]
  },
  {
   "cell_type": "code",
   "execution_count": 21,
   "id": "d06da6be-634b-4633-812d-ae84fb0724f6",
   "metadata": {},
   "outputs": [
    {
     "name": "stdout",
     "output_type": "stream",
     "text": [
      "   DepartmentID DepartmentName       Location  EmployeeID FirstName  LastName  \\\n",
      "0           101    Engineering       New York           1      John       Doe   \n",
      "1           102      Marketing  San Francisco           2      Jane     Smith   \n",
      "2           103        Finance        Chicago           3     Emily     Jones   \n",
      "3           101    Engineering       New York           4   Michael   Johnson   \n",
      "4           102      Marketing  San Francisco           5     Sarah  Williams   \n",
      "5           103        Finance        Chicago           6     David     Brown   \n",
      "6           101    Engineering       New York           7     Laura    Garcia   \n",
      "7           102      Marketing  San Francisco           8     James  Martinez   \n",
      "8           103        Finance        Chicago           9    Olivia    Wilson   \n",
      "9           101    Engineering       New York          10    Daniel  Anderson   \n",
      "\n",
      "   Salary  \n",
      "0   60000  \n",
      "1   55000  \n",
      "2   75000  \n",
      "3   65000  \n",
      "4   58000  \n",
      "5   72000  \n",
      "6   69000  \n",
      "7   57000  \n",
      "8   80000  \n",
      "9   62000  \n"
     ]
    }
   ],
   "source": [
    "print(pd.merge(right = data, left = data1,on = \"DepartmentID\", how = \"right\"))"
   ]
  },
  {
   "cell_type": "code",
   "execution_count": 24,
   "id": "a55122b7-211c-4126-90ea-c9f34cbeb96e",
   "metadata": {},
   "outputs": [],
   "source": [
    "data1 = {\"Emp Id\":[\"E01\", \"E02\", \"E03\", \"E04\", \"E05\"],\n",
    "         \"names\": [\"Ram\", \"bi\", \"ajju\", \"achi\", \"boobOO\"],\n",
    "         \"AGE\": [1, 2, 3, 4, 5]}\n",
    "data2 = {\"Emp Id\":[\"E06\", \"E07\", \"E08\", \"E09\", \"E10\"],\n",
    "         \"names\": [\"Ramd\", \"bibi\", \"aju\", \"ashii\", \"bOOmer\"],\n",
    "         \"AGE\": [1, 2, 3, 4, 5]}\n",
    "df1 = pd.DataFrame(data1)\n",
    "df2 = pd.DataFrame(data2)\n"
   ]
  },
  {
   "cell_type": "code",
   "execution_count": 25,
   "id": "863d9e97-8254-4958-af93-118250ecc28a",
   "metadata": {},
   "outputs": [
    {
     "name": "stdout",
     "output_type": "stream",
     "text": [
      "  Emp Id   names  AGE\n",
      "0    E01     Ram    1\n",
      "1    E02      bi    2\n",
      "2    E03    ajju    3\n",
      "3    E04    achi    4\n",
      "4    E05  boobOO    5\n",
      "0    E06    Ramd    1\n",
      "1    E07    bibi    2\n",
      "2    E08     aju    3\n",
      "3    E09   ashii    4\n",
      "4    E10  bOOmer    5\n"
     ]
    }
   ],
   "source": [
    "print(pd.concat([df1, df2]))"
   ]
  }
 ],
 "metadata": {
  "kernelspec": {
   "display_name": "Python 3 (ipykernel)",
   "language": "python",
   "name": "python3"
  },
  "language_info": {
   "codemirror_mode": {
    "name": "ipython",
    "version": 3
   },
   "file_extension": ".py",
   "mimetype": "text/x-python",
   "name": "python",
   "nbconvert_exporter": "python",
   "pygments_lexer": "ipython3",
   "version": "3.12.5"
  }
 },
 "nbformat": 4,
 "nbformat_minor": 5
}
