{
 "cells": [
  {
   "cell_type": "code",
   "execution_count": 2,
   "id": "2971ab5d",
   "metadata": {},
   "outputs": [
    {
     "name": "stdout",
     "output_type": "stream",
     "text": [
      "Scraping completed. Data saved to smart_lock_data.csv\n"
     ]
    }
   ],
   "source": [
    "import requests\n",
    "from bs4 import BeautifulSoup\n",
    "import pandas as pd\n",
    "\n",
    "# Define the URL for the search results (Amazon search page for smart locks)\n",
    "url = \"https://www.amazon.in/s?k=smart+lock\"\n",
    "\n",
    "# Make a request to the page\n",
    "headers = {\"User-Agent\": \"your-user-agent\"}  # Replace 'your-user-agent' with your actual User-Agent string\n",
    "page = requests.get(url, headers=headers)\n",
    "soup = BeautifulSoup(page.content, \"html.parser\")\n",
    "\n",
    "# Initialize lists to store scraped data\n",
    "brands, prices, ratings, rating_counts, review_counts, ranks, urls = [], [], [], [], [], [], []\n",
    "\n",
    "# Find the relevant HTML tags and scrape the data (this depends on the website’s structure)\n",
    "products = soup.find_all(\"div\", class_=\"s-main-slot s-result-list s-search-results sg-row\")\n",
    "\n",
    "# Scrape data for each product on the page\n",
    "for i, product in enumerate(products, start=1):\n",
    "    try:\n",
    "        # Extract brand name\n",
    "        brand = product.find(\"span\", class_=\"a-size-medium\").text if product.find(\"span\", class_=\"a-size-medium\") else \"N/A\"\n",
    "        \n",
    "        # Extract price (remove commas and handle cases where price is not available)\n",
    "        price = product.find(\"span\", class_=\"a-price-whole\")\n",
    "        if price:\n",
    "            price = int(price.text.replace(\",\", \"\"))\n",
    "        else:\n",
    "            price = 0  # Set price to 0 if not available\n",
    "        \n",
    "        # Extract rating (handle cases where rating is missing)\n",
    "        rating = product.find(\"span\", class_=\"a-icon-alt\")\n",
    "        if rating:\n",
    "            rating = float(rating.text.split()[0])\n",
    "        else:\n",
    "            rating = 0.0  # Set rating to 0 if not available\n",
    "        \n",
    "        # Extract rating count (handle missing or non-numeric values)\n",
    "        rating_count = product.find(\"span\", class_=\"a-size-base\")\n",
    "        if rating_count:\n",
    "            try:\n",
    "                rating_count = int(rating_count.text.replace(\",\", \"\"))\n",
    "            except ValueError:\n",
    "                rating_count = 0  # Set to 0 if it's not a number\n",
    "        else:\n",
    "            rating_count = 0\n",
    "        \n",
    "        # Extract the product URL\n",
    "        url = product.find(\"a\", class_=\"a-link-normal\")[\"href\"]\n",
    "        \n",
    "        # Append the scraped data to lists\n",
    "        brands.append(brand)\n",
    "        prices.append(price)\n",
    "        ratings.append(rating)\n",
    "        rating_counts.append(rating_count)\n",
    "        ranks.append(i)  # Rank is the position in the search results\n",
    "        urls.append(\"https://www.amazon.in\" + url)\n",
    "    \n",
    "    except Exception as e:\n",
    "        print(f\"Error occurred while scraping product {i}: {e}\")\n",
    "        continue\n",
    "\n",
    "# Create a DataFrame for the scraped data\n",
    "df = pd.DataFrame({\n",
    "    'Brand': brands,\n",
    "    'Price': prices,\n",
    "    'Rating': ratings,\n",
    "    'Rating Count': rating_counts,\n",
    "    'Rank': ranks,\n",
    "    'URL': urls\n",
    "})\n",
    "\n",
    "# Save the DataFrame to a CSV file\n",
    "df.to_csv(\"smart_lock_data.csv\", index=False)\n",
    "\n",
    "print(\"Scraping completed. Data saved to smart_lock_data.csv\")\n"
   ]
  },
  {
   "cell_type": "code",
   "execution_count": 3,
   "id": "450a1dbf",
   "metadata": {},
   "outputs": [
    {
     "name": "stdout",
     "output_type": "stream",
     "text": [
      "Series([], Name: Brand, dtype: int64)\n"
     ]
    }
   ],
   "source": [
    "brand_counts = df['Brand'].value_counts()\n",
    "print(brand_counts)"
   ]
  },
  {
   "cell_type": "code",
   "execution_count": 5,
   "id": "93a3c503",
   "metadata": {},
   "outputs": [
    {
     "name": "stdout",
     "output_type": "stream",
     "text": [
      "<4999          0\n",
      "5000-9999      0\n",
      "10000-14999    0\n",
      "15000-19999    0\n",
      ">20000         0\n",
      "Name: Price Band, dtype: int64\n"
     ]
    }
   ],
   "source": [
    "df['Price Band'] = pd.cut(df['Price'], bins=[0, 4999, 9999, 14999, 19999, float('inf')], labels=['<4999', '5000-9999', '10000-14999', '15000-19999', '>20000'])\n",
    "price_distribution = df['Price Band'].value_counts()\n",
    "print(price_distribution)"
   ]
  }
 ],
 "metadata": {
  "kernelspec": {
   "display_name": "Python 3 (ipykernel)",
   "language": "python",
   "name": "python3"
  },
  "language_info": {
   "codemirror_mode": {
    "name": "ipython",
    "version": 3
   },
   "file_extension": ".py",
   "mimetype": "text/x-python",
   "name": "python",
   "nbconvert_exporter": "python",
   "pygments_lexer": "ipython3",
   "version": "3.9.13"
  }
 },
 "nbformat": 4,
 "nbformat_minor": 5
}
