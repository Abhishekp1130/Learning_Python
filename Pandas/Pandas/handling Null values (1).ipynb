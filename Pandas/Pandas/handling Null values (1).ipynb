{
 "cells": [
  {
   "cell_type": "code",
   "execution_count": 2,
   "id": "70902214-af8b-4b1f-a35a-d2922bbc0ea8",
   "metadata": {},
   "outputs": [
    {
     "name": "stdout",
     "output_type": "stream",
     "text": [
      "            Name   Age  Gender   Department   Salary\n",
      "0       John Doe  29.0    Male  Engineering  50000.0\n",
      "1     Jane Smith  34.0  Female    Marketing  60000.0\n",
      "2    Emily Davis   NaN  Female  Engineering      NaN\n",
      "3  Michael Brown  45.0    Male          NaN  80000.0\n",
      "4  Jessica White  30.0  Female      Finance  70000.0\n",
      "5      Tom Clark  26.0    Male  Engineering  52000.0\n",
      "6     Anna Scott   NaN  Female           HR  48000.0\n",
      "7      Chris Lee  32.0    Male    Marketing      NaN\n",
      "8   Sarah Walker  29.0  Female      Finance  68000.0\n",
      "9     David King  40.0    Male  Engineering  75000.0\n"
     ]
    }
   ],
   "source": [
    "import pandas as pd\n",
    "\n",
    "data = pd.read_csv(\"C:/Users/user/OneDrive/Desktop/data practice/python/data frames/1.csv\")\n",
    "print(data)"
   ]
  },
  {
   "cell_type": "code",
   "execution_count": 4,
   "id": "00414200-c229-4d3b-91d2-67d0523c06d1",
   "metadata": {},
   "outputs": [
    {
     "name": "stdout",
     "output_type": "stream",
     "text": [
      "    Name    Age  Gender  Department  Salary\n",
      "0  False  False   False       False   False\n",
      "1  False  False   False       False   False\n",
      "2  False   True   False       False    True\n",
      "3  False  False   False        True   False\n",
      "4  False  False   False       False   False\n",
      "5  False  False   False       False   False\n",
      "6  False   True   False       False   False\n",
      "7  False  False   False       False    True\n",
      "8  False  False   False       False   False\n",
      "9  False  False   False       False   False\n",
      "Name          0\n",
      "Age           2\n",
      "Gender        0\n",
      "Department    1\n",
      "Salary        2\n",
      "dtype: int64\n"
     ]
    }
   ],
   "source": [
    "print(data.isnull())\n",
    "print(data.isnull().sum())\n"
   ]
  },
  {
   "cell_type": "code",
   "execution_count": 5,
   "id": "29fc4164-61c3-455b-9877-fcd99e88a581",
   "metadata": {},
   "outputs": [
    {
     "name": "stdout",
     "output_type": "stream",
     "text": [
      "            Name   Age  Gender   Department   Salary\n",
      "0       John Doe  29.0    Male  Engineering  50000.0\n",
      "1     Jane Smith  34.0  Female    Marketing  60000.0\n",
      "4  Jessica White  30.0  Female      Finance  70000.0\n",
      "5      Tom Clark  26.0    Male  Engineering  52000.0\n",
      "8   Sarah Walker  29.0  Female      Finance  68000.0\n",
      "9     David King  40.0    Male  Engineering  75000.0\n"
     ]
    }
   ],
   "source": [
    "print(data.dropna())"
   ]
  },
  {
   "cell_type": "code",
   "execution_count": 6,
   "id": "84ee6a81-2966-4166-bd51-c0a9cd0418b0",
   "metadata": {},
   "outputs": [
    {
     "name": "stdout",
     "output_type": "stream",
     "text": [
      "            Name   Age  Gender   Department   Salary\n",
      "0       John Doe  29.0    Male  Engineering  50000.0\n",
      "1     Jane Smith  34.0  Female    Marketing  60000.0\n",
      "2    Emily Davis   NaN  Female  Engineering      NaN\n",
      "3  Michael Brown  45.0    Male          NaN  80000.0\n",
      "4  Jessica White  30.0  Female      Finance  70000.0\n",
      "5      Tom Clark  26.0    Male  Engineering  52000.0\n",
      "6     Anna Scott   NaN  Female           HR  48000.0\n",
      "7      Chris Lee  32.0    Male    Marketing      NaN\n",
      "8   Sarah Walker  29.0  Female      Finance  68000.0\n",
      "9     David King  40.0    Male  Engineering  75000.0\n"
     ]
    }
   ],
   "source": [
    "print(data)"
   ]
  },
  {
   "cell_type": "code",
   "execution_count": 8,
   "id": "2e6fcad9-a761-4600-a865-28ca175e62c3",
   "metadata": {},
   "outputs": [
    {
     "name": "stdout",
     "output_type": "stream",
     "text": [
      "            Name      Age  Gender   Department   Salary\n",
      "0       John Doe     29.0    Male  Engineering  50000.0\n",
      "1     Jane Smith     34.0  Female    Marketing  60000.0\n",
      "2    Emily Davis  30000.0  Female  Engineering  30000.0\n",
      "3  Michael Brown     45.0    Male        30000  80000.0\n",
      "4  Jessica White     30.0  Female      Finance  70000.0\n",
      "5      Tom Clark     26.0    Male  Engineering  52000.0\n",
      "6     Anna Scott  30000.0  Female           HR  48000.0\n",
      "7      Chris Lee     32.0    Male    Marketing  30000.0\n",
      "8   Sarah Walker     29.0  Female      Finance  68000.0\n",
      "9     David King     40.0    Male  Engineering  75000.0\n"
     ]
    }
   ],
   "source": [
    "import numpy as np\n",
    "print(data.replace(np.nan,30000))"
   ]
  },
  {
   "cell_type": "code",
   "execution_count": 13,
   "id": "451be23e-905f-4f8d-ac0a-24fcaa9e584e",
   "metadata": {
    "scrolled": true
   },
   "outputs": [
    {
     "name": "stdout",
     "output_type": "stream",
     "text": [
      "            Name   Age  Gender   Department   Salary\n",
      "0       John Doe  29.0    Male  Engineering  50000.0\n",
      "1     Jane Smith  34.0  Female    Marketing  60000.0\n",
      "2    Emily Davis   NaN  Female  Engineering  62875.0\n",
      "3  Michael Brown  45.0    Male          NaN  80000.0\n",
      "4  Jessica White  30.0  Female      Finance  70000.0\n",
      "5      Tom Clark  26.0    Male  Engineering  52000.0\n",
      "6     Anna Scott   NaN  Female           HR  48000.0\n",
      "7      Chris Lee  32.0    Male    Marketing  62875.0\n",
      "8   Sarah Walker  29.0  Female      Finance  68000.0\n",
      "9     David King  40.0    Male  Engineering  75000.0\n",
      "62875.0\n"
     ]
    }
   ],
   "source": [
    "data[\"Salary\"] = data[\"Salary\"].replace(np.nan, 62875)\n",
    "print(data)\n",
    "print(data[\"Salary\"].mean())"
   ]
  },
  {
   "cell_type": "code",
   "execution_count": 10,
   "id": "1d8eb533-3c2c-486d-ab0a-20f7dbc00d5a",
   "metadata": {},
   "outputs": [
    {
     "name": "stdout",
     "output_type": "stream",
     "text": [
      "            Name   Age  Gender   Department   Salary\n",
      "0       John Doe  29.0    Male  Engineering  50000.0\n",
      "1     Jane Smith  34.0  Female    Marketing  60000.0\n",
      "2    Emily Davis   NaN  Female  Engineering      NaN\n",
      "3  Michael Brown  45.0    Male          NaN  80000.0\n",
      "4  Jessica White  30.0  Female      Finance  70000.0\n",
      "5      Tom Clark  26.0    Male  Engineering  52000.0\n",
      "6     Anna Scott   NaN  Female           HR  48000.0\n",
      "7      Chris Lee  32.0    Male    Marketing      NaN\n",
      "8   Sarah Walker  29.0  Female      Finance  68000.0\n",
      "9     David King  40.0    Male  Engineering  75000.0\n"
     ]
    }
   ],
   "source": [
    "data = pd.read_csv(\"C:/Users/user/OneDrive/Desktop/data practice/python/data frames/1.csv\")\n",
    "print(data)"
   ]
  },
  {
   "cell_type": "code",
   "execution_count": 17,
   "id": "5c4c8ac9-f2c2-48fe-ac18-db5e2fe053e4",
   "metadata": {},
   "outputs": [
    {
     "name": "stdout",
     "output_type": "stream",
     "text": [
      "62875.0\n",
      "<bound method NDFrame.bfill of             Name   Age  Gender   Department   Salary\n",
      "0       John Doe  29.0    Male  Engineering  50000.0\n",
      "1     Jane Smith  34.0  Female    Marketing  60000.0\n",
      "2    Emily Davis   NaN  Female  Engineering  62875.0\n",
      "3  Michael Brown  45.0    Male          NaN  80000.0\n",
      "4  Jessica White  30.0  Female      Finance  70000.0\n",
      "5      Tom Clark  26.0    Male  Engineering  52000.0\n",
      "6     Anna Scott   NaN  Female           HR  48000.0\n",
      "7      Chris Lee  32.0    Male    Marketing  62875.0\n",
      "8   Sarah Walker  29.0  Female      Finance  68000.0\n",
      "9     David King  40.0    Male  Engineering  75000.0>\n"
     ]
    }
   ],
   "source": [
    "print(data[\"Salary\"].mean())\n",
    "print(data.bfill)"
   ]
  },
  {
   "cell_type": "code",
   "execution_count": 18,
   "id": "fc8e9580-8519-4f19-a74c-91e978cb5879",
   "metadata": {},
   "outputs": [
    {
     "name": "stdout",
     "output_type": "stream",
     "text": [
      "62875.0\n",
      "<bound method NDFrame.ffill of             Name   Age  Gender   Department   Salary\n",
      "0       John Doe  29.0    Male  Engineering  50000.0\n",
      "1     Jane Smith  34.0  Female    Marketing  60000.0\n",
      "2    Emily Davis   NaN  Female  Engineering  62875.0\n",
      "3  Michael Brown  45.0    Male          NaN  80000.0\n",
      "4  Jessica White  30.0  Female      Finance  70000.0\n",
      "5      Tom Clark  26.0    Male  Engineering  52000.0\n",
      "6     Anna Scott   NaN  Female           HR  48000.0\n",
      "7      Chris Lee  32.0    Male    Marketing  62875.0\n",
      "8   Sarah Walker  29.0  Female      Finance  68000.0\n",
      "9     David King  40.0    Male  Engineering  75000.0>\n"
     ]
    }
   ],
   "source": [
    "print(data[\"Salary\"].mean())\n",
    "print(data.ffill)"
   ]
  }
 ],
 "metadata": {
  "kernelspec": {
   "display_name": "Python 3 (ipykernel)",
   "language": "python",
   "name": "python3"
  },
  "language_info": {
   "codemirror_mode": {
    "name": "ipython",
    "version": 3
   },
   "file_extension": ".py",
   "mimetype": "text/x-python",
   "name": "python",
   "nbconvert_exporter": "python",
   "pygments_lexer": "ipython3",
   "version": "3.12.5"
  }
 },
 "nbformat": 4,
 "nbformat_minor": 5
}
