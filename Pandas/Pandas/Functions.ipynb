{
 "cells": [
  {
   "cell_type": "code",
   "execution_count": 2,
   "id": "43ea834e-5d2f-48cd-844c-732273f069f8",
   "metadata": {},
   "outputs": [
    {
     "name": "stdout",
     "output_type": "stream",
     "text": [
      "    1          Date        category  subcategory  Price payment_mode      Day  \\\n",
      "0   2   1st jan 2020        food, F       swiggy    300          upi  1st jan   \n",
      "1   3  2 nd jan 2020    grocerry, G      fruits     500         cash  2nd jan   \n",
      "2   4  3 nd jan 2020    grocerry, G         milk    200         card  3rd jan   \n",
      "3   5  4 nd jan 2020     clothes, C        jeans   1500         card  4th jan   \n",
      "4   6  5 nd jan 2020   household, H    detergent    600          upi  5th jan   \n",
      "5   7  6 nd jan 2020    grocerry, G   dry fruits   1200          upi  6th jan   \n",
      "6   8  7 nd jan 2020  appliances, A         oven   5000         card  7th jan   \n",
      "7   9  8 nd jan 2020        food, F       zomato    200         cash  8th jan   \n",
      "8  10  9 nd jan 2020   household, H  conditioner    450          upi  9th jan   \n",
      "\n",
      "   category.1 initials  \n",
      "0        food        F  \n",
      "1    grocerry        G  \n",
      "2    grocerry        G  \n",
      "3     clothes        C  \n",
      "4   household        H  \n",
      "5    grocerry        G  \n",
      "6  appliances        A  \n",
      "7        food        F  \n",
      "8   household        H  \n"
     ]
    }
   ],
   "source": [
    "import pandas as pd\n",
    "data = pd.read_csv(\"C:/Users/user/OneDrive/Desktop/data practice/python/data frames/data analytics 1.csv\")#file path id if its not in smae folder\n",
    "print(data.head(10))\n"
   ]
  },
  {
   "cell_type": "code",
   "execution_count": 3,
   "id": "1d546733-d51b-4622-a89e-987a68c9bff7",
   "metadata": {},
   "outputs": [
    {
     "name": "stdout",
     "output_type": "stream",
     "text": [
      "    1          Date        category  subcategory  Price payment_mode      Day  \\\n",
      "0   2   1st jan 2020        food, F       swiggy    300          upi  1st jan   \n",
      "1   3  2 nd jan 2020    grocerry, G      fruits     500         cash  2nd jan   \n",
      "2   4  3 nd jan 2020    grocerry, G         milk    200         card  3rd jan   \n",
      "3   5  4 nd jan 2020     clothes, C        jeans   1500         card  4th jan   \n",
      "4   6  5 nd jan 2020   household, H    detergent    600          upi  5th jan   \n",
      "5   7  6 nd jan 2020    grocerry, G   dry fruits   1200          upi  6th jan   \n",
      "6   8  7 nd jan 2020  appliances, A         oven   5000         card  7th jan   \n",
      "7   9  8 nd jan 2020        food, F       zomato    200         cash  8th jan   \n",
      "8  10  9 nd jan 2020   household, H  conditioner    450          upi  9th jan   \n",
      "\n",
      "   category.1 initials  \n",
      "0        food        F  \n",
      "1    grocerry        G  \n",
      "2    grocerry        G  \n",
      "3     clothes        C  \n",
      "4   household        H  \n",
      "5    grocerry        G  \n",
      "6  appliances        A  \n",
      "7        food        F  \n",
      "8   household        H  \n"
     ]
    }
   ],
   "source": [
    "print(data.tail(10))"
   ]
  },
  {
   "cell_type": "code",
   "execution_count": 4,
   "id": "7922ec89-4973-47a6-b365-32619d5ac3f7",
   "metadata": {},
   "outputs": [
    {
     "name": "stdout",
     "output_type": "stream",
     "text": [
      "<class 'pandas.core.frame.DataFrame'>\n",
      "RangeIndex: 9 entries, 0 to 8\n",
      "Data columns (total 9 columns):\n",
      " #   Column        Non-Null Count  Dtype \n",
      "---  ------        --------------  ----- \n",
      " 0   1             9 non-null      int64 \n",
      " 1   Date          9 non-null      object\n",
      " 2   category      9 non-null      object\n",
      " 3   subcategory   9 non-null      object\n",
      " 4   Price         9 non-null      int64 \n",
      " 5   payment_mode  9 non-null      object\n",
      " 6   Day           9 non-null      object\n",
      " 7   category.1    9 non-null      object\n",
      " 8   initials      9 non-null      object\n",
      "dtypes: int64(2), object(7)\n",
      "memory usage: 780.0+ bytes\n",
      "None\n"
     ]
    }
   ],
   "source": [
    "print(data.info())\n"
   ]
  },
  {
   "cell_type": "code",
   "execution_count": 5,
   "id": "04f3de85-f05b-484b-a7b6-f2e172c7daea",
   "metadata": {},
   "outputs": [
    {
     "name": "stdout",
     "output_type": "stream",
     "text": [
      "               1        Price\n",
      "count   9.000000     9.000000\n",
      "mean    6.000000  1105.555556\n",
      "std     2.738613  1527.752525\n",
      "min     2.000000   200.000000\n",
      "25%     4.000000   300.000000\n",
      "50%     6.000000   500.000000\n",
      "75%     8.000000  1200.000000\n",
      "max    10.000000  5000.000000\n"
     ]
    }
   ],
   "source": [
    "print(data.describe())"
   ]
  },
  {
   "cell_type": "code",
   "execution_count": 6,
   "id": "82aea928-ec0c-4e68-bc10-52dd7ce63827",
   "metadata": {},
   "outputs": [
    {
     "name": "stdout",
     "output_type": "stream",
     "text": [
      "       1  Date   category  subcategory  Price  payment_mode    Day  \\\n",
      "0  False  False     False        False  False         False  False   \n",
      "1  False  False     False        False  False         False  False   \n",
      "2  False  False     False        False  False         False  False   \n",
      "3  False  False     False        False  False         False  False   \n",
      "4  False  False     False        False  False         False  False   \n",
      "5  False  False     False        False  False         False  False   \n",
      "6  False  False     False        False  False         False  False   \n",
      "7  False  False     False        False  False         False  False   \n",
      "8  False  False     False        False  False         False  False   \n",
      "\n",
      "   category.1  initials  \n",
      "0       False     False  \n",
      "1       False     False  \n",
      "2       False     False  \n",
      "3       False     False  \n",
      "4       False     False  \n",
      "5       False     False  \n",
      "6       False     False  \n",
      "7       False     False  \n",
      "8       False     False  \n"
     ]
    }
   ],
   "source": [
    "print(data.isnull())\n"
   ]
  },
  {
   "cell_type": "code",
   "execution_count": 8,
   "id": "5cb38643-59ac-4429-9584-5b065e8c3394",
   "metadata": {},
   "outputs": [
    {
     "name": "stdout",
     "output_type": "stream",
     "text": [
      "1               0\n",
      "Date            0\n",
      "category        0\n",
      "subcategory     0\n",
      "Price           0\n",
      "payment_mode    0\n",
      "Day             0\n",
      "category.1      0\n",
      "initials        0\n",
      "dtype: int64\n"
     ]
    }
   ],
   "source": [
    "print(data.isnull().sum())\n"
   ]
  },
  {
   "cell_type": "code",
   "execution_count": null,
   "id": "7b96459f-eebb-45b2-ba3b-0993dd28a343",
   "metadata": {},
   "outputs": [],
   "source": []
  }
 ],
 "metadata": {
  "kernelspec": {
   "display_name": "Python 3 (ipykernel)",
   "language": "python",
   "name": "python3"
  },
  "language_info": {
   "codemirror_mode": {
    "name": "ipython",
    "version": 3
   },
   "file_extension": ".py",
   "mimetype": "text/x-python",
   "name": "python",
   "nbconvert_exporter": "python",
   "pygments_lexer": "ipython3",
   "version": "3.12.5"
  }
 },
 "nbformat": 4,
 "nbformat_minor": 5
}
