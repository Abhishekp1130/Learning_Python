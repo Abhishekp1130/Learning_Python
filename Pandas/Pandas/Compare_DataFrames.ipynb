{
 "cells": [
  {
   "cell_type": "code",
   "execution_count": 4,
   "id": "6d35ecb3-6dbe-4099-b55d-ae2468b800b3",
   "metadata": {},
   "outputs": [
    {
     "name": "stdout",
     "output_type": "stream",
     "text": [
      "   Fruits  Price  Quantity\n",
      "0   mango    100        15\n",
      "1  apples    150        10\n",
      "2  banana     50        10\n",
      "3  papaya     35         3\n"
     ]
    }
   ],
   "source": [
    "import pandas as pd\n",
    "dict = {\"Fruits\": [\"mango\", \"apples\", \"banana\", \"papaya\"],\n",
    "       \"Price\": [100, 150, 50, 35],\n",
    "       \"Quantity\": [15, 10, 10, 3]}\n",
    "\n",
    "df = pd.DataFrame(dict)\n",
    "print(df)"
   ]
  },
  {
   "cell_type": "code",
   "execution_count": 6,
   "id": "ddbef6fa-be73-4696-b949-6701c127dccb",
   "metadata": {},
   "outputs": [
    {
     "name": "stdout",
     "output_type": "stream",
     "text": [
      "   Fruits  Price  Quantity\n",
      "0   mango    100        15\n",
      "1  apples    150        10\n",
      "2  banana     50        10\n",
      "3  papaya     35         3\n"
     ]
    }
   ],
   "source": [
    "df2 = df.copy()\n",
    "print(df2)"
   ]
  },
  {
   "cell_type": "code",
   "execution_count": 12,
   "id": "f509ead0-3c49-4601-86e0-7fc59b132379",
   "metadata": {},
   "outputs": [
    {
     "name": "stdout",
     "output_type": "stream",
     "text": [
      "   Fruits  Price  Quantity\n",
      "0   mango    100        15\n",
      "1  apples    150        10\n",
      "2  banana     50        10\n",
      "3  papaya     35         3\n",
      "\n",
      "   Fruits  Price  Quantity\n",
      "0   mango    120        12\n",
      "1  apples    175        16\n",
      "2  banana     50        10\n",
      "3  papaya     30         5\n",
      "\n",
      "   Price        Quantity      \n",
      "    self  other     self other\n",
      "0  100.0  120.0     15.0  12.0\n",
      "1  150.0  175.0     10.0  16.0\n",
      "3   35.0   30.0      3.0   5.0\n",
      "\n",
      "         Price  Quantity\n",
      "0 self   100.0      15.0\n",
      "  other  120.0      12.0\n",
      "1 self   150.0      10.0\n",
      "  other  175.0      16.0\n",
      "3 self    35.0       3.0\n",
      "  other   30.0       5.0\n"
     ]
    }
   ],
   "source": [
    "df2.loc[0, \"Price\"]= 120\n",
    "df2.loc[1, \"Price\"]= 175\n",
    "df2.loc[3, \"Price\"]= 30\n",
    "df2.loc[0, \"Quantity\"]= 12\n",
    "df2.loc[1, \"Quantity\"]= 16\n",
    "df2.loc[3, \"Quantity\"]= 5\n",
    "print(df)\n",
    "print()\n",
    "print(df2)\n",
    "print()\n",
    "print(df.compare(df2))\n",
    "print()\n",
    "print(df.compare(df2, align_axis = 0))"
   ]
  },
  {
   "cell_type": "code",
   "execution_count": 13,
   "id": "cdcb685e-7687-4aa6-91a4-a7ff05b320ce",
   "metadata": {},
   "outputs": [
    {
     "name": "stdout",
     "output_type": "stream",
     "text": [
      "  Price       Quantity      \n",
      "   self other     self other\n",
      "0   100   120       15    12\n",
      "1   150   175       10    16\n",
      "3    35    30        3     5\n"
     ]
    }
   ],
   "source": [
    "print(df.compare(df2, keep_equal = True))"
   ]
  },
  {
   "cell_type": "code",
   "execution_count": 14,
   "id": "0dd2e25e-de9e-4b01-97d5-5d44cbe957f2",
   "metadata": {},
   "outputs": [
    {
     "name": "stdout",
     "output_type": "stream",
     "text": [
      "  Fruits        Price        Quantity      \n",
      "    self other   self  other     self other\n",
      "0    NaN   NaN  100.0  120.0     15.0  12.0\n",
      "1    NaN   NaN  150.0  175.0     10.0  16.0\n",
      "2    NaN   NaN    NaN    NaN      NaN   NaN\n",
      "3    NaN   NaN   35.0   30.0      3.0   5.0\n"
     ]
    }
   ],
   "source": [
    "print(df.compare(df2, keep_shape = True))"
   ]
  }
 ],
 "metadata": {
  "kernelspec": {
   "display_name": "Python 3 (ipykernel)",
   "language": "python",
   "name": "python3"
  },
  "language_info": {
   "codemirror_mode": {
    "name": "ipython",
    "version": 3
   },
   "file_extension": ".py",
   "mimetype": "text/x-python",
   "name": "python",
   "nbconvert_exporter": "python",
   "pygments_lexer": "ipython3",
   "version": "3.12.5"
  }
 },
 "nbformat": 4,
 "nbformat_minor": 5
}
