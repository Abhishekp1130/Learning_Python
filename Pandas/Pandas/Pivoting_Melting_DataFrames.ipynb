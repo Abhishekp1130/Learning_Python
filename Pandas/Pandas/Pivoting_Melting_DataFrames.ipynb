{
 "cells": [
  {
   "cell_type": "code",
   "execution_count": 11,
   "id": "7a2685ca-b9d6-494e-83d3-39abd77e2962",
   "metadata": {},
   "outputs": [
    {
     "name": "stdout",
     "output_type": "stream",
     "text": [
      "  keys  Names Houses Grades\n",
      "0   k1   John    Red    3rd\n",
      "1   k2    Ben   Blue    4th\n",
      "2   k1  David  Green    5th\n",
      "3   k2  Peter    Red    6th\n"
     ]
    }
   ],
   "source": [
    "import pandas as pd\n",
    "dict = {\n",
    "    \"keys\":[\"k1\", \"k2\", \"k1\", \"k2\"],\n",
    "    \"Names\": [\"John\", \"Ben\", \"David\", \"Peter\"],\n",
    "    \"Houses\": [\"Red\", \"Blue\", \"Green\", \"Red\"],\n",
    "    \"Grades\": [\"3rd\", \"4th\",\"5th\", \"6th\"]\n",
    "}\n",
    "df = pd.DataFrame(dict)\n",
    "print(df)\n"
   ]
  },
  {
   "cell_type": "code",
   "execution_count": 13,
   "id": "db26182c-8137-48e9-b67a-7c9aabcff9e1",
   "metadata": {},
   "outputs": [
    {
     "name": "stdout",
     "output_type": "stream",
     "text": [
      "Names   Ben  David John Peter\n",
      "keys                         \n",
      "k1      NaN  Green  Red   NaN\n",
      "k2     Blue    NaN  NaN   Red\n"
     ]
    }
   ],
   "source": [
    "pivot_df = df.pivot(index=\"keys\", columns=\"Names\", values=\"Houses\")\n",
    "\n",
    "print(pivot_df)"
   ]
  },
  {
   "cell_type": "code",
   "execution_count": 12,
   "id": "8631020e-f6d8-45e0-a650-470feddc64c3",
   "metadata": {},
   "outputs": [
    {
     "name": "stdout",
     "output_type": "stream",
     "text": [
      "      Houses                   Grades                 \n",
      "Names    Ben  David John Peter    Ben David John Peter\n",
      "keys                                                  \n",
      "k1       NaN  Green  Red   NaN    NaN   5th  3rd   NaN\n",
      "k2      Blue    NaN  NaN   Red    4th   NaN  NaN   6th\n"
     ]
    }
   ],
   "source": [
    "pivot_df = df.pivot(index=\"keys\", columns=\"Names\", values=[\"Houses\", \"Grades\"])\n",
    "\n",
    "print(pivot_df)"
   ]
  },
  {
   "cell_type": "code",
   "execution_count": 15,
   "id": "0f9415fa-9740-4dcc-a07a-8cbdd2716476",
   "metadata": {},
   "outputs": [
    {
     "name": "stdout",
     "output_type": "stream",
     "text": [
      "  keys  Names Houses Grades\n",
      "0   k1   John    Red    3rd\n",
      "1   k2    Ben   Blue    4th\n",
      "2   k1  David  Green    5th\n",
      "3   k2  Peter    Red    6th\n"
     ]
    }
   ],
   "source": [
    "dict = {  # Melting\n",
    "    \"keys\":[\"k1\", \"k2\", \"k1\", \"k2\"],\n",
    "    \"Names\": [\"John\", \"Ben\", \"David\", \"Peter\"],\n",
    "    \"Houses\": [\"Red\", \"Blue\", \"Green\", \"Red\"],\n",
    "    \"Grades\": [\"3rd\", \"4th\",\"5th\", \"6th\"]\n",
    "}\n",
    "df = pd.DataFrame(dict)\n",
    "print(df)"
   ]
  },
  {
   "cell_type": "code",
   "execution_count": 18,
   "id": "7778c850-5101-41a7-9c85-b064d92e3073",
   "metadata": {},
   "outputs": [
    {
     "name": "stdout",
     "output_type": "stream",
     "text": [
      "   Names Grades variable  value\n",
      "0   John    3rd   Houses    Red\n",
      "1    Ben    4th   Houses   Blue\n",
      "2  David    5th   Houses  Green\n",
      "3  Peter    6th   Houses    Red\n"
     ]
    }
   ],
   "source": [
    "print(pd.melt(df, id_vars=[\"Names\"], value_vars=[\"Houses\"]))\n"
   ]
  },
  {
   "cell_type": "code",
   "execution_count": 19,
   "id": "c1d32855-7bb9-4fc6-97f1-40be13a64079",
   "metadata": {},
   "outputs": [
    {
     "name": "stdout",
     "output_type": "stream",
     "text": [
      "   Names Grades variable  value\n",
      "0   John    3rd   Houses    Red\n",
      "1    Ben    4th   Houses   Blue\n",
      "2  David    5th   Houses  Green\n",
      "3  Peter    6th   Houses    Red\n"
     ]
    }
   ],
   "source": [
    "print(pd.melt(df, id_vars=[\"Names\", \"Grades\"], value_vars=[\"Houses\"]))"
   ]
  },
  {
   "cell_type": "code",
   "execution_count": 20,
   "id": "d07bd86e-f7dc-4bca-a598-5492ee2cfd9a",
   "metadata": {},
   "outputs": [
    {
     "name": "stdout",
     "output_type": "stream",
     "text": [
      "   Names Grades  Houses Colours\n",
      "0   John    3rd  Houses     Red\n",
      "1    Ben    4th  Houses    Blue\n",
      "2  David    5th  Houses   Green\n",
      "3  Peter    6th  Houses     Red\n"
     ]
    }
   ],
   "source": [
    "print(pd.melt(df, id_vars=[\"Names\", \"Grades\"], value_vars=[\"Houses\"], var_name=\"Houses\",value_name=\"Colours\"))"
   ]
  }
 ],
 "metadata": {
  "kernelspec": {
   "display_name": "Python 3 (ipykernel)",
   "language": "python",
   "name": "python3"
  },
  "language_info": {
   "codemirror_mode": {
    "name": "ipython",
    "version": 3
   },
   "file_extension": ".py",
   "mimetype": "text/x-python",
   "name": "python",
   "nbconvert_exporter": "python",
   "pygments_lexer": "ipython3",
   "version": "3.12.5"
  }
 },
 "nbformat": 4,
 "nbformat_minor": 5
}
