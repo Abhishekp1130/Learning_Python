{
 "cells": [
  {
   "cell_type": "code",
   "execution_count": 2,
   "id": "af7c2e53-3a8a-434e-bd11-284051e38555",
   "metadata": {},
   "outputs": [
    {
     "name": "stdout",
     "output_type": "stream",
     "text": [
      "    name  Age  Salary\n",
      "0   John   25  300000\n",
      "1  Peter   28   45000\n",
      "2   Lisa   31   25000\n"
     ]
    }
   ],
   "source": [
    "import pandas as pd\n",
    "\n",
    "data = {\"name\":[\"John\", \"Peter\", \"Lisa\"],\n",
    "        \"Age\":[25, 28, 31],\n",
    "        \"Salary\":[300000, 45000, 25000]}\n",
    "\n",
    "df = pd.DataFrame(data)\n",
    "print(df)"
   ]
  },
  {
   "cell_type": "code",
   "execution_count": 3,
   "id": "c49900d2-ccee-4a83-a3d1-843081107cd4",
   "metadata": {},
   "outputs": [
    {
     "name": "stdout",
     "output_type": "stream",
     "text": [
      "    1          Date        category  subcategory  Price payment_mode      Day  \\\n",
      "0   2   1st jan 2020        food, F       swiggy    300          upi  1st jan   \n",
      "1   3  2 nd jan 2020    grocerry, G      fruits     500         cash  2nd jan   \n",
      "2   4  3 nd jan 2020    grocerry, G         milk    200         card  3rd jan   \n",
      "3   5  4 nd jan 2020     clothes, C        jeans   1500         card  4th jan   \n",
      "4   6  5 nd jan 2020   household, H    detergent    600          upi  5th jan   \n",
      "5   7  6 nd jan 2020    grocerry, G   dry fruits   1200          upi  6th jan   \n",
      "6   8  7 nd jan 2020  appliances, A         oven   5000         card  7th jan   \n",
      "7   9  8 nd jan 2020        food, F       zomato    200         cash  8th jan   \n",
      "8  10  9 nd jan 2020   household, H  conditioner    450          upi  9th jan   \n",
      "\n",
      "   category.1 initials  \n",
      "0        food        F  \n",
      "1    grocerry        G  \n",
      "2    grocerry        G  \n",
      "3     clothes        C  \n",
      "4   household        H  \n",
      "5    grocerry        G  \n",
      "6  appliances        A  \n",
      "7        food        F  \n",
      "8   household        H  \n"
     ]
    }
   ],
   "source": [
    "data = pd.read_csv(\"C:/Users/user/OneDrive/Desktop/data practice/python/data frames/data analytics 1.csv\")#file path id if its not in smae folder\n",
    "print(data)"
   ]
  },
  {
   "cell_type": "code",
   "execution_count": 8,
   "id": "17c99454-b316-4367-ad00-02875aefdc7d",
   "metadata": {},
   "outputs": [
    {
     "name": "stdout",
     "output_type": "stream",
     "text": [
      "   Unnamed: 0     Unnamed: 1     Unnamed: 2   Unnamed: 3 Unnamed: 4  \\\n",
      "0           1          Date        category  subcategory      Price   \n",
      "1           2   1st jan 2020        food, F       swiggy        300   \n",
      "2           3  2 nd jan 2020    grocerry, G      fruits         500   \n",
      "3           4  3 nd jan 2020    grocerry, G         milk        200   \n",
      "4           5  4 nd jan 2020     clothes, C        jeans       1500   \n",
      "5           6  5 nd jan 2020   household, H    detergent        600   \n",
      "6           7  6 nd jan 2020    grocerry, G   dry fruits       1200   \n",
      "7           8  7 nd jan 2020  appliances, A         oven       5000   \n",
      "8           9  8 nd jan 2020        food, F       zomato        200   \n",
      "9          10  9 nd jan 2020   household, H  conditioner        450   \n",
      "\n",
      "     Unnamed: 5 Unnamed: 6  Unnamed: 7 Unnamed: 8  \n",
      "0  payment mode        Day    category   initials  \n",
      "1           upi    1st jan        food          F  \n",
      "2          cash    2nd jan    grocerry          G  \n",
      "3          card    3rd jan    grocerry          G  \n",
      "4          card    4th jan     clothes          C  \n",
      "5           upi    5th jan   household          H  \n",
      "6           upi    6th jan    grocerry          G  \n",
      "7          card    7th jan  appliances          A  \n",
      "8          cash    8th jan        food          F  \n",
      "9           upi    9th jan   household          H  \n"
     ]
    }
   ],
   "source": [
    "\n",
    "data = pd.read_excel(\"C:/Users/user/OneDrive/Desktop/data practice/python/data frames/data1.xlsx\")\n",
    "print(data)"
   ]
  }
 ],
 "metadata": {
  "kernelspec": {
   "display_name": "Python 3 (ipykernel)",
   "language": "python",
   "name": "python3"
  },
  "language_info": {
   "codemirror_mode": {
    "name": "ipython",
    "version": 3
   },
   "file_extension": ".py",
   "mimetype": "text/x-python",
   "name": "python",
   "nbconvert_exporter": "python",
   "pygments_lexer": "ipython3",
   "version": "3.12.5"
  }
 },
 "nbformat": 4,
 "nbformat_minor": 5
}
