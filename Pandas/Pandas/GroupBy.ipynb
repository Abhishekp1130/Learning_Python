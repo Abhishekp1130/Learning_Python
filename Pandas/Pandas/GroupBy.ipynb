{
 "cells": [
  {
   "cell_type": "code",
   "execution_count": 21,
   "id": "6c6a1c4f-a63d-4479-8659-559a99a95873",
   "metadata": {},
   "outputs": [
    {
     "name": "stdout",
     "output_type": "stream",
     "text": [
      "     EEID        Full Name                 Job Title  Department  \\\n",
      "0  E02387      Emily Davis                Sr. Manger          IT   \n",
      "1  E04105    Theodore Dinh       Technical Architect          IT   \n",
      "2  E02572     Luna Sanders                  Director     Finance   \n",
      "3  E02832  Penelope Jordan  Computer Systems Manager          IT   \n",
      "4  E01639        Austin Vo               Sr. Analyst     Finance   \n",
      "5  E00644     Joshua Gupta    Account Representative       Sales   \n",
      "6  E01550      Ruby Barnes                   Manager          IT   \n",
      "7  E04332      Luke Martin                   Analyst     Finance   \n",
      "8  E04533    Easton Bailey                   Manager  Accounting   \n",
      "9  E03838  Madeline Walker               Sr. Analyst     Finance   \n",
      "\n",
      "            Business Unit  Gender  Ethnicity  Age  Hire Date  Annual Salary  \\\n",
      "0  Research & Development  Female      Black   55 2016-04-08         141604   \n",
      "1           Manufacturing    Male      Asian   59 1997-11-29          99975   \n",
      "2     Speciality Products  Female  Caucasian   50 2006-10-26         163099   \n",
      "3           Manufacturing  Female  Caucasian   26 2019-09-27          84913   \n",
      "4           Manufacturing    Male      Asian   55 1995-11-20          95409   \n",
      "5               Corporate    Male      Asian   57 2017-01-24          50994   \n",
      "6               Corporate  Female  Caucasian   27 2020-07-01         119746   \n",
      "7           Manufacturing    Male      Black   25 2020-05-16          41336   \n",
      "8           Manufacturing    Male  Caucasian   29 2019-01-25         113527   \n",
      "9     Speciality Products  Female  Caucasian   34 2018-06-13          77203   \n",
      "\n",
      "   Bonus %        Country       City  Exit Date  GetBonus  \n",
      "0     0.15  United States    Seattle 2021-10-16     bonus  \n",
      "1     0.00          China  Chongqing        NaT  no bonus  \n",
      "2     0.20  United States    Chicago        NaT     bonus  \n",
      "3     0.07  United States    Chicago        NaT     bonus  \n",
      "4     0.00  United States    Phoenix        NaT  no bonus  \n",
      "5     0.00          China  Chongqing        NaT  no bonus  \n",
      "6     0.10  United States    Phoenix        NaT     bonus  \n",
      "7     0.00  United States      Miami 2021-05-20  no bonus  \n",
      "8     0.06  United States     Austin        NaT     bonus  \n",
      "9     0.00  United States    Chicago        NaT  no bonus  \n"
     ]
    }
   ],
   "source": [
    "import pandas as pd\n",
    "df = pd.read_excel(\"C:/Users/user/OneDrive/Desktop/data practice/python/data frames/Employee Sample Data.xlsx\")\n",
    "# # print(data)\n",
    "df.loc[df[\"Bonus %\"] == 0, \"GetBonus\"] = \"no bonus\"\n",
    "df.loc[df[\"Bonus %\"] > 0, \"GetBonus\"] = \"bonus\"\n",
    "print(df.head(10))\n",
    "\n",
    "\n",
    "\n"
   ]
  },
  {
   "cell_type": "code",
   "execution_count": 39,
   "id": "0af79a59-d644-405e-9e3c-fa27a2b06deb",
   "metadata": {},
   "outputs": [
    {
     "name": "stdout",
     "output_type": "stream",
     "text": [
      "   EmployeeID FirstName  LastName   Department  Bonus %  Salary\n",
      "0           1      John       Doe  Engineering        5   60000\n",
      "1           2      Jane     Smith    Marketing        0   55000\n",
      "2           3     Emily     Jones      Finance       10   75000\n",
      "3           4   Michael   Johnson  Engineering        0   65000\n",
      "4           5     Sarah  Williams    Marketing        7   58000\n",
      "5           6     David     Brown      Finance        0   72000\n",
      "6           7     Laura    Garcia  Engineering       12   69000\n",
      "7           8     James  Martinez    Marketing        4   57000\n",
      "8           9    Olivia    Wilson      Finance       15   80000\n",
      "9          10    Daniel  Anderson  Engineering        0   62000\n",
      "   EmployeeID FirstName  LastName   Department  Bonus %  Salary  \\\n",
      "0           1      John       Doe  Engineering        5   60000   \n",
      "1           2      Jane     Smith    Marketing        0   55000   \n",
      "2           3     Emily     Jones      Finance       10   75000   \n",
      "3           4   Michael   Johnson  Engineering        0   65000   \n",
      "4           5     Sarah  Williams    Marketing        7   58000   \n",
      "5           6     David     Brown      Finance        0   72000   \n",
      "6           7     Laura    Garcia  Engineering       12   69000   \n",
      "7           8     James  Martinez    Marketing        4   57000   \n",
      "8           9    Olivia    Wilson      Finance       15   80000   \n",
      "9          10    Daniel  Anderson  Engineering        0   62000   \n",
      "\n",
      "         Full Name         Fll Name         Ful Name  \n",
      "0         John Doe         JOHN Doe         John Doe  \n",
      "1       Jane Smith       JANE Smith       Jane Smith  \n",
      "2      Emily Jones      EMILY Jones      Emily Jones  \n",
      "3  Michael Johnson  MICHAEL Johnson  Michael Johnson  \n",
      "4   Sarah Williams   SARAH Williams   Sarah Williams  \n",
      "5      David Brown      DAVID Brown      David Brown  \n",
      "6     Laura Garcia     LAURA Garcia     Laura Garcia  \n",
      "7   James Martinez   JAMES Martinez   James Martinez  \n",
      "8    Olivia Wilson    OLIVIA Wilson    Olivia Wilson  \n",
      "9  Daniel Anderson  DANIEL Anderson  Daniel Anderson  \n"
     ]
    }
   ],
   "source": [
    "data = pd.read_csv(\"C:/Users/user/OneDrive/Desktop/data practice/python/data frames/column1.csv\")\n",
    "print(data)\n",
    "data[\"Full Name\"] = data[\"FirstName\"] +\" \" +data[\"LastName\"]\n",
    "# print(data)\n",
    "data[\"Fll Name\"] = data[\"FirstName\"].str.upper() +\" \" +data[\"LastName\"]\n",
    "# print(data)\n",
    "data[\"Ful Name\"] = data[\"FirstName\"].str.capitalize() +\" \" +data[\"LastName\"]\n",
    "print(data)"
   ]
  },
  {
   "cell_type": "code",
   "execution_count": 41,
   "id": "4cac12c9-72c3-4bd4-9f88-5eb61dd5b1e6",
   "metadata": {},
   "outputs": [
    {
     "name": "stdout",
     "output_type": "stream",
     "text": [
      "   EmployeeID FirstName  LastName   Department  Bonus %  Salary  \\\n",
      "0           1      John       Doe  Engineering        5   60000   \n",
      "1           2      Jane     Smith    Marketing        0   55000   \n",
      "2           3     Emily     Jones      Finance       10   75000   \n",
      "3           4   Michael   Johnson  Engineering        0   65000   \n",
      "4           5     Sarah  Williams    Marketing        7   58000   \n",
      "5           6     David     Brown      Finance        0   72000   \n",
      "6           7     Laura    Garcia  Engineering       12   69000   \n",
      "7           8     James  Martinez    Marketing        4   57000   \n",
      "8           9    Olivia    Wilson      Finance       15   80000   \n",
      "9          10    Daniel  Anderson  Engineering        0   62000   \n",
      "\n",
      "         Full Name         Fll Name         Ful Name    Bonus  \n",
      "0         John Doe         JOHN Doe         John Doe  12000.0  \n",
      "1       Jane Smith       JANE Smith       Jane Smith  11000.0  \n",
      "2      Emily Jones      EMILY Jones      Emily Jones  15000.0  \n",
      "3  Michael Johnson  MICHAEL Johnson  Michael Johnson  13000.0  \n",
      "4   Sarah Williams   SARAH Williams   Sarah Williams  11600.0  \n",
      "5      David Brown      DAVID Brown      David Brown  14400.0  \n",
      "6     Laura Garcia     LAURA Garcia     Laura Garcia  13800.0  \n",
      "7   James Martinez   JAMES Martinez   James Martinez  11400.0  \n",
      "8    Olivia Wilson    OLIVIA Wilson    Olivia Wilson  16000.0  \n",
      "9  Daniel Anderson  DANIEL Anderson  Daniel Anderson  12400.0  \n"
     ]
    }
   ],
   "source": [
    "data[\"Bonus\"] = (data[\"Salary\"]/100)*20\n",
    "print(data)"
   ]
  },
  {
   "cell_type": "code",
   "execution_count": 45,
   "id": "7b7f92ca-077c-4f44-ad7c-0583bde1f60b",
   "metadata": {},
   "outputs": [
    {
     "name": "stdout",
     "output_type": "stream",
     "text": [
      "     Months\n",
      "0   January\n",
      "1  February\n",
      "2     March\n",
      "3     April\n",
      "     Months ShorT_Months\n",
      "0   January          Jan\n",
      "1  February          Feb\n",
      "2     March          Mar\n",
      "3     April          Apr\n"
     ]
    }
   ],
   "source": [
    "data ={\"Months\":[\"January\", \"February\", \"March\", \"April\"]}\n",
    "a = pd.DataFrame(data)\n",
    "print(a)\n",
    "def extract(value):\n",
    "    return value[0:3]\n",
    "a[\"ShorT_Months\"] = a[\"Months\"].map(extract)\n",
    "print(a)"
   ]
  },
  {
   "cell_type": "code",
   "execution_count": null,
   "id": "c8924758-28db-46cb-b0f8-9c97d24e3f50",
   "metadata": {},
   "outputs": [],
   "source": []
  }
 ],
 "metadata": {
  "kernelspec": {
   "display_name": "Python 3 (ipykernel)",
   "language": "python",
   "name": "python3"
  },
  "language_info": {
   "codemirror_mode": {
    "name": "ipython",
    "version": 3
   },
   "file_extension": ".py",
   "mimetype": "text/x-python",
   "name": "python",
   "nbconvert_exporter": "python",
   "pygments_lexer": "ipython3",
   "version": "3.12.5"
  }
 },
 "nbformat": 4,
 "nbformat_minor": 5
}
