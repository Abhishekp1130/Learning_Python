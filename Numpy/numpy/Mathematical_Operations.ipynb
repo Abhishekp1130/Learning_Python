{
 "cells": [
  {
   "cell_type": "code",
   "execution_count": 11,
   "id": "bd091ba8-38d2-4ede-b63b-dec75eac50ca",
   "metadata": {},
   "outputs": [
    {
     "name": "stdout",
     "output_type": "stream",
     "text": [
      "[60 60 70 30 30]\n",
      "[60 60 70 30 30]\n",
      "[  0  20  50  10 -10]\n",
      "[  0  20  50  10 -10]\n",
      "[900 800 600 200 200]\n",
      "[900 800 600 200 200]\n",
      "[1.  2.  6.  2.  0.5]\n",
      "[1.  2.  6.  2.  0.5]\n"
     ]
    }
   ],
   "source": [
    "import numpy as np\n",
    "\n",
    "arr1 = np.array([30, 40, 60, 20, 10])\n",
    "arr2 = np.array([30, 20, 10, 10, 20])\n",
    "print(arr1+arr2)\n",
    "print(np.add(arr1,arr2))\n",
    "print(arr1-arr2)\n",
    "print(np.subtract(arr1, arr2))\n",
    "print(arr1*arr2)\n",
    "print(np.multiply(arr1, arr2))\n",
    "print(arr1/arr2)\n",
    "print(np.divide(arr1, arr2))"
   ]
  },
  {
   "cell_type": "code",
   "execution_count": 12,
   "id": "66ef7dd1-8520-48fe-95b5-2245b5725698",
   "metadata": {},
   "outputs": [
    {
     "name": "stdout",
     "output_type": "stream",
     "text": [
      "[[60 60]\n",
      " [30 30]]\n",
      "[[60 60]\n",
      " [30 30]]\n",
      "[[  0  20]\n",
      " [ 10 -10]]\n",
      "[[  0  20]\n",
      " [ 10 -10]]\n",
      "[[900 800]\n",
      " [200 200]]\n",
      "[[900 800]\n",
      " [200 200]]\n",
      "[[1.  2. ]\n",
      " [2.  0.5]]\n",
      "[[1.  2. ]\n",
      " [2.  0.5]]\n"
     ]
    }
   ],
   "source": [
    "arr1 = np.array([[30, 40], [20, 10]])\n",
    "arr2 = np.array([[30, 20], [10, 20]])\n",
    "print(arr1+arr2)\n",
    "print(np.add(arr1,arr2))\n",
    "print(arr1-arr2)\n",
    "print(np.subtract(arr1, arr2))\n",
    "print(arr1*arr2)\n",
    "print(np.multiply(arr1, arr2))\n",
    "print(arr1/arr2)\n",
    "print(np.divide(arr1, arr2))"
   ]
  },
  {
   "cell_type": "code",
   "execution_count": 18,
   "id": "3a50a9ba-d575-4f50-9d92-c6b540070945",
   "metadata": {},
   "outputs": [
    {
     "name": "stdout",
     "output_type": "stream",
     "text": [
      "[27 64  8  1]\n",
      "[1.73205081 2.         1.41421356 1.        ]\n"
     ]
    }
   ],
   "source": [
    "arr1 = np.array([3, 4, 2, 1])\n",
    "arr2 = np.array([3])\n",
    "print(np.power(arr1, arr2))\n",
    "print(np.sqrt(arr1))\n",
    "\n"
   ]
  }
 ],
 "metadata": {
  "kernelspec": {
   "display_name": "Python 3 (ipykernel)",
   "language": "python",
   "name": "python3"
  },
  "language_info": {
   "codemirror_mode": {
    "name": "ipython",
    "version": 3
   },
   "file_extension": ".py",
   "mimetype": "text/x-python",
   "name": "python",
   "nbconvert_exporter": "python",
   "pygments_lexer": "ipython3",
   "version": "3.12.5"
  }
 },
 "nbformat": 4,
 "nbformat_minor": 5
}
