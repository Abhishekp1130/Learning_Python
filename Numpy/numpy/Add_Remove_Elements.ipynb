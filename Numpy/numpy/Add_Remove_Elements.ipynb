{
 "cells": [
  {
   "cell_type": "code",
   "execution_count": 3,
   "id": "a01a1cb3-157c-4677-a062-c5c1944014cf",
   "metadata": {},
   "outputs": [
    {
     "name": "stdout",
     "output_type": "stream",
     "text": [
      "[20 40 60 80 90]\n"
     ]
    }
   ],
   "source": [
    "import numpy as np\n",
    "a = np.array([20, 40, 60, 80])\n",
    "print(np.append(a,90))\n"
   ]
  },
  {
   "cell_type": "code",
   "execution_count": 4,
   "id": "01ae4e01-832c-4adf-b951-80a7e38248a5",
   "metadata": {},
   "outputs": [
    {
     "name": "stdout",
     "output_type": "stream",
     "text": [
      "[ 20  40  60  80  90 100]\n"
     ]
    }
   ],
   "source": [
    "a = np.array([[20, 40], [60, 80]])\n",
    "print(np.append(a,[90, 100]))\n"
   ]
  },
  {
   "cell_type": "code",
   "execution_count": 5,
   "id": "1175adea-53f6-471c-be25-ee965061b294",
   "metadata": {},
   "outputs": [
    {
     "name": "stdout",
     "output_type": "stream",
     "text": [
      "[20 50 40 60 80]\n"
     ]
    }
   ],
   "source": [
    "a = np.array([20, 40, 60, 80])\n",
    "print(np.insert(a, 1, 50)) #array, index, value"
   ]
  },
  {
   "cell_type": "code",
   "execution_count": 11,
   "id": "6b45734a-920a-4d6e-84c6-372981c4d91b",
   "metadata": {},
   "outputs": [
    {
     "name": "stdout",
     "output_type": "stream",
     "text": [
      "[[20 50 40]\n",
      " [60 60 80]]\n",
      "[[20 40]\n",
      " [50 50]\n",
      " [60 80]]\n",
      "[[20 40]\n",
      " [50 50]\n",
      " [60 80]\n",
      " [50 50]]\n"
     ]
    }
   ],
   "source": [
    "a = np.array([[20, 40], [60, 80]])\n",
    "print(np.insert(a, 1, [50,60], axis = 1))\n",
    "print(np.insert(a, 1, [50], axis = 0))\n",
    "print(np.insert(a, [1,2], [50], axis = 0))"
   ]
  },
  {
   "cell_type": "code",
   "execution_count": 16,
   "id": "89b636be-8741-46c0-ae08-4c45f5df0f8c",
   "metadata": {},
   "outputs": [
    {
     "name": "stdout",
     "output_type": "stream",
     "text": [
      "[[20 40]\n",
      " [60 80]]\n",
      "\n",
      "[20 60 80]\n",
      "\n",
      "[[20 40]]\n",
      "\n",
      "[[20]\n",
      " [60]]\n"
     ]
    }
   ],
   "source": [
    "print(a)\n",
    "print()\n",
    "print(np.delete(a,1))\n",
    "print()\n",
    "print(np.delete(a, 1, axis = 0))\n",
    "print()\n",
    "print(np.delete(a, 1, axis = 1))"
   ]
  }
 ],
 "metadata": {
  "kernelspec": {
   "display_name": "Python 3 (ipykernel)",
   "language": "python",
   "name": "python3"
  },
  "language_info": {
   "codemirror_mode": {
    "name": "ipython",
    "version": 3
   },
   "file_extension": ".py",
   "mimetype": "text/x-python",
   "name": "python",
   "nbconvert_exporter": "python",
   "pygments_lexer": "ipython3",
   "version": "3.12.5"
  }
 },
 "nbformat": 4,
 "nbformat_minor": 5
}
