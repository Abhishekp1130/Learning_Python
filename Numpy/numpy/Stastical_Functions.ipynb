{
 "cells": [
  {
   "cell_type": "code",
   "execution_count": 7,
   "id": "ff6350bf-8118-4df1-93ca-0e96e9436ac8",
   "metadata": {},
   "outputs": [
    {
     "name": "stdout",
     "output_type": "stream",
     "text": [
      "202.25\n",
      "194.0\n",
      "200\n",
      "55.68157235567257\n",
      "3100.4375\n"
     ]
    }
   ],
   "source": [
    "import numpy as np\n",
    "import statistics as stats\n",
    "baked_food = [200, 300, 150, 130, 200, 280, 170, 188]\n",
    "a = np.array(baked_food)\n",
    "print(np.mean(baked_food))\n",
    "print(np.median(baked_food))\n",
    "print(stats.mode(baked_food))\n",
    "print(np.std(baked_food))#standard deviation\n",
    "print(np.var(baked_food))#variance - square of std"
   ]
  },
  {
   "cell_type": "code",
   "execution_count": 10,
   "id": "86eb8e1f-848e-48bc-862a-4c17a411e921",
   "metadata": {},
   "outputs": [
    {
     "name": "stdout",
     "output_type": "stream",
     "text": [
      "[[1.         0.99015454]\n",
      " [0.99015454 1.        ]]\n"
     ]
    }
   ],
   "source": [
    "tobacco_consumption = [30, 50, 10, 30, 50, 40]\n",
    "deaths = [100, 120, 70, 100, 120, 112]\n",
    "print(np.corrcoef([tobacco_consumption, deaths]))#correlation coefficient\n",
    "# -1 represents inversely proportional relationship\n",
    "# 1 represents a proportional relationship\n",
    "# 0 means no relationship"
   ]
  },
  {
   "cell_type": "code",
   "execution_count": 11,
   "id": "c90641ae-c0b3-412d-88e4-f331884e6cfb",
   "metadata": {},
   "outputs": [
    {
     "name": "stdout",
     "output_type": "stream",
     "text": [
      "[[ 1.         -0.66621445]\n",
      " [-0.66621445  1.        ]]\n"
     ]
    }
   ],
   "source": [
    "price = [300, 100, 350, 150, 200]\n",
    "sales = [10, 20, 7, 17, 3]\n",
    "print(np.corrcoef([price, sales]))"
   ]
  }
 ],
 "metadata": {
  "kernelspec": {
   "display_name": "Python 3 (ipykernel)",
   "language": "python",
   "name": "python3"
  },
  "language_info": {
   "codemirror_mode": {
    "name": "ipython",
    "version": 3
   },
   "file_extension": ".py",
   "mimetype": "text/x-python",
   "name": "python",
   "nbconvert_exporter": "python",
   "pygments_lexer": "ipython3",
   "version": "3.12.5"
  }
 },
 "nbformat": 4,
 "nbformat_minor": 5
}
