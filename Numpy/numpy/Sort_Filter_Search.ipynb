{
 "cells": [
  {
   "cell_type": "code",
   "execution_count": 2,
   "id": "c8b239ca-377a-438a-a110-404a3049b7f6",
   "metadata": {},
   "outputs": [
    {
     "name": "stdout",
     "output_type": "stream",
     "text": [
      "[ 4  7  8  9 12]\n",
      "\n",
      "[[ 4  7  8  9 12]\n",
      " [ 1  3  4  8  9]]\n"
     ]
    }
   ],
   "source": [
    "import numpy as np\n",
    "\n",
    "ar = np.array([7, 8, 4, 12, 9])\n",
    "print(np.sort(ar))\n",
    "print()\n",
    "ar = np.array([[7, 8, 4, 12, 9], [4, 8, 3, 1, 9]])\n",
    "print(np.sort(ar))\n",
    "\n",
    "\n"
   ]
  },
  {
   "cell_type": "code",
   "execution_count": 4,
   "id": "3001e56b-dd7e-4730-96ff-a37c9a70b19e",
   "metadata": {},
   "outputs": [
    {
     "name": "stdout",
     "output_type": "stream",
     "text": [
      "(array([2]),)\n",
      "(array([1, 2, 3]),)\n"
     ]
    }
   ],
   "source": [
    "ar = np.array([7, 8, 4, 12, 9])\n",
    "s = np.where(ar == 4)\n",
    "print(s)\n",
    "s = np.where(ar % 2 == 0)\n",
    "print(s)\n"
   ]
  },
  {
   "cell_type": "code",
   "execution_count": 8,
   "id": "4d495bf8-e965-42b7-980b-4c66ece1fc54",
   "metadata": {},
   "outputs": [
    {
     "name": "stdout",
     "output_type": "stream",
     "text": [
      "2\n"
     ]
    }
   ],
   "source": [
    "ar = np.array([ 4,  7,  8,  9, 12])\n",
    "ss = np.searchsorted(ar, 8)\n",
    "print(ss)"
   ]
  },
  {
   "cell_type": "code",
   "execution_count": 9,
   "id": "f6fddcd3-f524-4e66-9c50-ad03fdd4a914",
   "metadata": {},
   "outputs": [
    {
     "name": "stdout",
     "output_type": "stream",
     "text": [
      "[4 8]\n"
     ]
    }
   ],
   "source": [
    "ar = np.array([ 4,  7,  8,  9])\n",
    "\n",
    "fa = [True, False, True, False]\n",
    "new = ar[fa]\n",
    "print(new)"
   ]
  },
  {
   "cell_type": "code",
   "execution_count": 11,
   "id": "887a2988-86d5-4521-b5a7-5a06b51a9b9c",
   "metadata": {},
   "outputs": [
    {
     "name": "stdout",
     "output_type": "stream",
     "text": [
      "[7 8 9]\n"
     ]
    }
   ],
   "source": [
    "ar = np.array([ 4,  7,  8,  9])\n",
    "\n",
    "fa = ar>5\n",
    "\n",
    "new = ar[fa]\n",
    "print(new)"
   ]
  },
  {
   "cell_type": "code",
   "execution_count": 12,
   "id": "714137fb-667e-4fe8-8bda-dffcf1e93e0b",
   "metadata": {},
   "outputs": [
    {
     "name": "stdout",
     "output_type": "stream",
     "text": [
      "[4 8]\n"
     ]
    }
   ],
   "source": [
    "ar = np.array([ 4,  7,  8,  9])\n",
    "\n",
    "fa = ar%2 == 0\n",
    "\n",
    "new = ar[fa]\n",
    "print(new)"
   ]
  }
 ],
 "metadata": {
  "kernelspec": {
   "display_name": "Python 3 (ipykernel)",
   "language": "python",
   "name": "python3"
  },
  "language_info": {
   "codemirror_mode": {
    "name": "ipython",
    "version": 3
   },
   "file_extension": ".py",
   "mimetype": "text/x-python",
   "name": "python",
   "nbconvert_exporter": "python",
   "pygments_lexer": "ipython3",
   "version": "3.12.5"
  }
 },
 "nbformat": 4,
 "nbformat_minor": 5
}
