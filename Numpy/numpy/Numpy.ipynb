{
 "cells": [
  {
   "cell_type": "code",
   "execution_count": 2,
   "id": "5b87bfaa-cdd0-4311-a9f7-fdbaf44416ec",
   "metadata": {},
   "outputs": [
    {
     "name": "stdout",
     "output_type": "stream",
     "text": [
      "hello\n"
     ]
    }
   ],
   "source": [
    "print(\"hello\")"
   ]
  },
  {
   "cell_type": "code",
   "execution_count": 8,
   "id": "ec824048-6022-470c-95cb-c41bbf041d54",
   "metadata": {},
   "outputs": [
    {
     "name": "stdout",
     "output_type": "stream",
     "text": [
      "[10 20 30 40]\n",
      "<class 'numpy.ndarray'>\n",
      "[[10 20 30 40]]\n"
     ]
    }
   ],
   "source": [
    "import numpy as np\n",
    "\n",
    "arr=np.array([10,20,30,40])\n",
    "print(arr)\n",
    "print(type(arr))"
   ]
  },
  {
   "cell_type": "code",
   "execution_count": 20,
   "id": "c355f592-dd98-4483-b7c4-2212b50863c7",
   "metadata": {},
   "outputs": [
    {
     "name": "stdout",
     "output_type": "stream",
     "text": [
      "[10 20 30]\n",
      "[10 20 30 40]\n",
      "[40]\n",
      "[10 20]\n"
     ]
    }
   ],
   "source": [
    "arr=np.array([10,20,30,40])\n",
    "# slicing\n",
    "# , [50, 60, 70, 80], [20, 40, 60, 80]\n",
    "print(arr[0:3])\n",
    "print(arr[0:])\n",
    "print(arr[3:])\n",
    "print(arr[:2])"
   ]
  },
  {
   "cell_type": "code",
   "execution_count": 24,
   "id": "db1a5445-d09a-408c-9958-fc00412b1998",
   "metadata": {},
   "outputs": [
    {
     "name": "stdout",
     "output_type": "stream",
     "text": [
      "[[10 20]\n",
      " [50 60]]\n",
      "[20 30]\n",
      "[70 80]\n"
     ]
    }
   ],
   "source": [
    "arr=np.array([[10,20,30,40], [50, 60, 70, 80]])\n",
    "print(arr[0:2, 0:2])\n",
    "print(arr[0, 1:3]) #1st Array \n",
    "print(arr[1, 2:]) #second array"
   ]
  },
  {
   "cell_type": "code",
   "execution_count": 29,
   "id": "cac8b8bd-7449-4342-8457-14873577002b",
   "metadata": {},
   "outputs": [
    {
     "name": "stdout",
     "output_type": "stream",
     "text": [
      "60\n"
     ]
    }
   ],
   "source": [
    "arr=np.array([[10,20,30,40], [50, 60, 70, 80], [20, 40, 60, 80]])\n",
    "print(arr[2,2])#thirdarray#thirdelement #indexing starts from 0\n"
   ]
  },
  {
   "cell_type": "code",
   "execution_count": 33,
   "id": "2bde0742-11ac-48de-8ec1-23deebf9dd1a",
   "metadata": {},
   "outputs": [
    {
     "name": "stdout",
     "output_type": "stream",
     "text": [
      "(3, 4)\n",
      "12\n",
      "2\n",
      "int64\n"
     ]
    }
   ],
   "source": [
    "# attributes of array\n",
    "arr=np.array([[10,20,30,40], [50, 60, 70, 80], [20, 40, 60, 80]])\n",
    "print(np.shape(arr))\n",
    "print(np.size(arr))\n",
    "print(np.ndim(arr))\n",
    "print(arr.dtype)"
   ]
  },
  {
   "cell_type": "code",
   "execution_count": 40,
   "id": "247c51e2-91c4-4b13-b5d6-427a60941a5d",
   "metadata": {},
   "outputs": [
    {
     "name": "stdout",
     "output_type": "stream",
     "text": [
      "[[10 20 30 40]\n",
      " [50 60 70 80]]\n",
      "(2, 4)\n",
      "2\n",
      "8\n",
      "<class 'numpy.ndarray'>\n",
      "int64\n",
      "[[10 20 30 40]\n",
      " [50 60 70 80]]\n"
     ]
    }
   ],
   "source": [
    "a = [[10,20,30,40], [50, 60, 70, 80]]\n",
    "arr = np.array(a)\n",
    "print(arr)\n",
    "print(arr.shape) #rows and columns\n",
    "print(len(arr)) #number of nested values\n",
    "print(np.size(arr))#number of elements\n",
    "print(type(arr))#type o variable\n",
    "print(arr.dtype) #datatype of array\n",
    "print(arr.astype(int)) #conversion of datatypes\n"
   ]
  }
 ],
 "metadata": {
  "kernelspec": {
   "display_name": "Python 3 (ipykernel)",
   "language": "python",
   "name": "python3"
  },
  "language_info": {
   "codemirror_mode": {
    "name": "ipython",
    "version": 3
   },
   "file_extension": ".py",
   "mimetype": "text/x-python",
   "name": "python",
   "nbconvert_exporter": "python",
   "pygments_lexer": "ipython3",
   "version": "3.12.5"
  }
 },
 "nbformat": 4,
 "nbformat_minor": 5
}
