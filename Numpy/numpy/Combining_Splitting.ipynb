{
 "cells": [
  {
   "cell_type": "code",
   "execution_count": 1,
   "id": "d89f13fa-0e33-4d2a-95d1-4f10e93b412f",
   "metadata": {},
   "outputs": [
    {
     "name": "stdout",
     "output_type": "stream",
     "text": [
      "[30, 40, 50, 5, 5, 3]\n"
     ]
    }
   ],
   "source": [
    "import numpy as np\n",
    "# concatenate\n",
    "a = [30, 40, 50]\n",
    "b = [5, 5, 3]\n",
    "print(a+b)\n"
   ]
  },
  {
   "cell_type": "code",
   "execution_count": 5,
   "id": "a693c0e8-fc1b-46f2-a2b2-1faa23ea8ec4",
   "metadata": {},
   "outputs": [
    {
     "name": "stdout",
     "output_type": "stream",
     "text": [
      "[30 40 50  5  5  3]\n"
     ]
    }
   ],
   "source": [
    "\n",
    "# Concatenate\n",
    "arr1 = np.array([30, 40, 50])\n",
    "arr2 = np.array([5, 5, 3])\n",
    "print(np.concatenate([arr1, arr2])) "
   ]
  },
  {
   "cell_type": "code",
   "execution_count": 10,
   "id": "551d7f4e-fd10-4442-baf2-383f5893c2a4",
   "metadata": {},
   "outputs": [
    {
     "name": "stdout",
     "output_type": "stream",
     "text": [
      "[[30 40]\n",
      " [50 10]\n",
      " [ 5  5]\n",
      " [ 3  3]]\n",
      "[[30 40  5  5]\n",
      " [50 10  3  3]]\n",
      "[[30 40  5  5]\n",
      " [50 10  3  3]]\n",
      "[[30 40]\n",
      " [50 10]\n",
      " [ 5  5]\n",
      " [ 3  3]]\n"
     ]
    }
   ],
   "source": [
    "arr1 = np.array([[30, 40], [50, 10]])\n",
    "arr2 = np.array([[5, 5],[3, 3]])\n",
    "print(np.concatenate([arr1, arr2], axis = 0))\n",
    "\n",
    "print(np.concatenate([arr1, arr2], axis = 1))\n",
    "\n",
    "print(np.hstack([arr1, arr2])) #horizontal concatenation\n",
    "\n",
    "print(np.vstack([arr1, arr2])) #vertical concatenation\n",
    "\n"
   ]
  },
  {
   "cell_type": "code",
   "execution_count": 14,
   "id": "c31e32a8-8085-495a-950f-a8eff4fcfc95",
   "metadata": {},
   "outputs": [
    {
     "name": "stdout",
     "output_type": "stream",
     "text": [
      "[30 40]\n",
      "[array([20, 40]), array([30, 40]), array([10]), array([20])]\n",
      "[array([20, 40]), array([30]), array([40]), array([10]), array([20])]\n"
     ]
    }
   ],
   "source": [
    "# Splitting\n",
    "a = np.array([20, 40, 30, 40, 10,20])\n",
    "b = np.array_split(a, 3)\n",
    "print(b[1])\n",
    "b = np.array_split(a, 4)\n",
    "print(b)\n",
    "b = np.array_split(a, 5)\n",
    "print(b)"
   ]
  },
  {
   "cell_type": "code",
   "execution_count": 16,
   "id": "b6dc9879-c536-4266-9e76-1bde005b7e70",
   "metadata": {},
   "outputs": [
    {
     "name": "stdout",
     "output_type": "stream",
     "text": [
      "[array([[20, 40, 30]]), array([[40, 10, 20]])]\n"
     ]
    }
   ],
   "source": [
    "a = np.array([[20, 40, 30], [40, 10,20]])\n",
    "b = np.array_split(a, 2)\n",
    "print(b)"
   ]
  }
 ],
 "metadata": {
  "kernelspec": {
   "display_name": "Python 3 (ipykernel)",
   "language": "python",
   "name": "python3"
  },
  "language_info": {
   "codemirror_mode": {
    "name": "ipython",
    "version": 3
   },
   "file_extension": ".py",
   "mimetype": "text/x-python",
   "name": "python",
   "nbconvert_exporter": "python",
   "pygments_lexer": "ipython3",
   "version": "3.12.5"
  }
 },
 "nbformat": 4,
 "nbformat_minor": 5
}
